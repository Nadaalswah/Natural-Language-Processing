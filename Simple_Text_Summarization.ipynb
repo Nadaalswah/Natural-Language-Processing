{
  "nbformat": 4,
  "nbformat_minor": 0,
  "metadata": {
    "colab": {
      "provenance": []
    },
    "kernelspec": {
      "name": "python3",
      "display_name": "Python 3"
    },
    "language_info": {
      "name": "python"
    }
  },
  "cells": [
    {
      "cell_type": "markdown",
      "source": [
        "# Input"
      ],
      "metadata": {
        "id": "w2Zi3z73mIRW"
      }
    },
    {
      "cell_type": "code",
      "source": [
        "text='Lions, often regarded as the kings of the animal kingdom, are majestic creatures known for their power, grace, and social structure.These magnificent big cats are native to various habitats across Africa and Asia, where they roam the savannas, grasslands, and forests in search of prey. With their distinctive golden fur and impressive manes, male lions exude strength and dominance, while females, the primary hunters of the pride, display remarkable agility and cunning in their pursuit of food. Lions are highly social animals, forming cohesive family units called prides, which typically consist of related females, their offspring, and a few dominant males. Within the pride, each member plays a crucial role in hunting, protecting territory, and caring for the young. Despite their status as apex predators, lions face numerous threats, including habitat loss, human-wildlife conflict, and poaching, leading to a decline in their population numbers in the wild. Conservation efforts are crucial to ensure the survival of these iconic and culturally significant animals for future generations.'"
      ],
      "metadata": {
        "id": "3I1v8lSFmMT4"
      },
      "execution_count": 3,
      "outputs": []
    },
    {
      "cell_type": "markdown",
      "source": [
        "#  1.Importing required libraries"
      ],
      "metadata": {
        "id": "m1gTaTGhhnSq"
      }
    },
    {
      "cell_type": "code",
      "execution_count": 4,
      "metadata": {
        "id": "a5kUoEwWhJjO"
      },
      "outputs": [],
      "source": [
        "import nltk\n",
        "from nltk.corpus import stopwords\n",
        "from nltk.tokenize import word_tokenize, sent_tokenize"
      ]
    },
    {
      "cell_type": "code",
      "source": [
        "nltk.download('stopwords')\n",
        "nltk.download('punkt')"
      ],
      "metadata": {
        "colab": {
          "base_uri": "https://localhost:8080/"
        },
        "id": "NWkKrNaBnSsf",
        "outputId": "569f8386-f2ed-4677-c3a1-19d29bf9af8c"
      },
      "execution_count": 8,
      "outputs": [
        {
          "output_type": "stream",
          "name": "stderr",
          "text": [
            "[nltk_data] Downloading package stopwords to /root/nltk_data...\n",
            "[nltk_data]   Package stopwords is already up-to-date!\n",
            "[nltk_data] Downloading package punkt to /root/nltk_data...\n",
            "[nltk_data]   Unzipping tokenizers/punkt.zip.\n"
          ]
        },
        {
          "output_type": "execute_result",
          "data": {
            "text/plain": [
              "True"
            ]
          },
          "metadata": {},
          "execution_count": 8
        }
      ]
    },
    {
      "cell_type": "markdown",
      "source": [
        "# 2.Removing Stop Words and storing them in a separate array of words"
      ],
      "metadata": {
        "id": "Ci7zTwTahlqQ"
      }
    },
    {
      "cell_type": "code",
      "source": [
        "# Tokenizing the text\n",
        "stopWords = set(stopwords.words(\"english\"))\n",
        "words = word_tokenize(text)\n"
      ],
      "metadata": {
        "id": "ZgRMeXdxkrhL"
      },
      "execution_count": 9,
      "outputs": []
    },
    {
      "cell_type": "markdown",
      "source": [
        "# 3.Create a frequency table of words\n",
        "A python dictionary that will keep a record of how many times each word appears in the feedback after removing the stop words.we can use the dictionary over every sentence to know which sentences have the most relevant content in the overall text.\n"
      ],
      "metadata": {
        "id": "J9J4-j-qhi6w"
      }
    },
    {
      "cell_type": "code",
      "source": [
        "freqTable = dict()\n",
        "for word in words:\n",
        "    word = word.lower()\n",
        "    if word in stopWords:\n",
        "        continue\n",
        "    if word in freqTable:\n",
        "        freqTable[word] += 1\n",
        "    else:\n",
        "        freqTable[word] = 1"
      ],
      "metadata": {
        "id": "0ic1fahVjAay"
      },
      "execution_count": 10,
      "outputs": []
    },
    {
      "cell_type": "markdown",
      "source": [
        "# 4.Assign score to each sentence depending on the words it contains and the frequency table\n",
        "We can use the sent_tokenize() method to create the array of sentences. Secondly, we will need a dictionary to keep the score of each sentence, we will later go through the dictionary to generate the summary."
      ],
      "metadata": {
        "id": "rDNkQASijUZQ"
      }
    },
    {
      "cell_type": "code",
      "source": [
        "sentences = sent_tokenize(text)\n",
        "sentenceValue = dict()\n",
        "\n",
        "for sentence in sentences:\n",
        "    for word, freq in freqTable.items():\n",
        "        if word in sentence.lower():\n",
        "            if sentence in sentenceValue:\n",
        "                sentenceValue[sentence] += freq\n",
        "            else:\n",
        "                sentenceValue[sentence] = freq\n",
        ""
      ],
      "metadata": {
        "id": "PM5_V8yDjXtd"
      },
      "execution_count": 11,
      "outputs": []
    },
    {
      "cell_type": "markdown",
      "source": [
        "# 5.Assign a certain score to compare the sentences within the feedback.\n",
        "A simple approach to compare our scores would be to find the average score of a sentence. The average itself can be a good threshold."
      ],
      "metadata": {
        "id": "CaoSts-PkHPW"
      }
    },
    {
      "cell_type": "code",
      "source": [
        "sumValues = 0\n",
        "for sentence in sentenceValue:\n",
        "    sumValues += sentenceValue[sentence]\n",
        "average = int(sumValues / len(sentenceValue))"
      ],
      "metadata": {
        "id": "nvWiPPgXkVOo"
      },
      "execution_count": 12,
      "outputs": []
    },
    {
      "cell_type": "markdown",
      "source": [
        "# Output"
      ],
      "metadata": {
        "id": "hhC_zzQXoAr9"
      }
    },
    {
      "cell_type": "code",
      "source": [
        "# Storing sentences into our summary.\n",
        "summary = ''\n",
        "for sentence in sentences:\n",
        "    if (sentence in sentenceValue) and (sentenceValue[sentence] > (1.2 * average)):\n",
        "        summary += \" \" + sentence\n",
        "print(summary)"
      ],
      "metadata": {
        "colab": {
          "base_uri": "https://localhost:8080/"
        },
        "id": "OyZyd0K1n37w",
        "outputId": "ba9c1407-f2f7-4441-d79e-be05fedbeac1"
      },
      "execution_count": 13,
      "outputs": [
        {
          "output_type": "stream",
          "name": "stdout",
          "text": [
            " Lions, often regarded as the kings of the animal kingdom, are majestic creatures known for their power, grace, and social structure.These magnificent big cats are native to various habitats across Africa and Asia, where they roam the savannas, grasslands, and forests in search of prey.\n"
          ]
        }
      ]
    },
    {
      "cell_type": "code",
      "source": [],
      "metadata": {
        "id": "hnxs4lPloJ1V"
      },
      "execution_count": null,
      "outputs": []
    }
  ]
}